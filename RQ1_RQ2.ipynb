{
 "cells": [
  {
   "cell_type": "code",
   "execution_count": 87,
   "id": "1acab788",
   "metadata": {},
   "outputs": [],
   "source": [
    "# importing libraries\n",
    "import pandas as pd\n",
    "import numpy as np\n",
    "import matplotlib.pyplot as plt\n",
    "import seaborn as sns\n",
    "from collections import Counter"
   ]
  },
  {
   "cell_type": "code",
   "execution_count": 88,
   "id": "ac9b2e19",
   "metadata": {},
   "outputs": [],
   "source": [
    "import scipy.stats as stats\n",
    "from scipy.stats import chi2_contingency\n",
    "import statsmodels.api as sm\n",
    "from statsmodels.formula.api import ols"
   ]
  },
  {
   "cell_type": "code",
   "execution_count": 89,
   "id": "1b119538",
   "metadata": {},
   "outputs": [],
   "source": [
    "# Read CSV files from data folder and store in dataframes\n",
    "hackathons = pd.read_csv('../data/hackathons_modified.csv')\n",
    "projects = pd.read_csv('../data/projects_modified.csv')\n",
    "participants_expanded = pd.read_csv('../data/participants_expanded_post_inference.csv')"
   ]
  },
  {
   "cell_type": "code",
   "execution_count": 90,
   "id": "707292d9",
   "metadata": {},
   "outputs": [],
   "source": [
    "import warnings\n",
    "warnings.filterwarnings('ignore')"
   ]
  },
  {
   "cell_type": "code",
   "execution_count": 91,
   "id": "4e4b848e",
   "metadata": {},
   "outputs": [],
   "source": [
    "hackathons[\"year\"] = hackathons[\"start_date_format\"].map(\n",
    "                    lambda x:int(x[:4]))"
   ]
  },
  {
   "cell_type": "code",
   "execution_count": null,
   "id": "2df530ed",
   "metadata": {},
   "outputs": [],
   "source": []
  },
  {
   "cell_type": "markdown",
   "id": "4977182d",
   "metadata": {},
   "source": [
    "## The number of hackathons "
   ]
  },
  {
   "cell_type": "code",
   "execution_count": 92,
   "id": "0ae1a44c",
   "metadata": {},
   "outputs": [
    {
     "data": {
      "text/plain": [
       "7053"
      ]
     },
     "execution_count": 92,
     "metadata": {},
     "output_type": "execute_result"
    }
   ],
   "source": [
    "len(hackathons[\"URL\"].unique())"
   ]
  },
  {
   "cell_type": "code",
   "execution_count": 93,
   "id": "f52e7f4b",
   "metadata": {},
   "outputs": [
    {
     "data": {
      "text/plain": [
       "count     7053.000000\n",
       "mean       142.314193\n",
       "std        432.513814\n",
       "min          0.000000\n",
       "25%         24.000000\n",
       "50%         60.000000\n",
       "75%        143.000000\n",
       "max      18701.000000\n",
       "Name: registered_N, dtype: float64"
      ]
     },
     "execution_count": 93,
     "metadata": {},
     "output_type": "execute_result"
    }
   ],
   "source": [
    "hackathons[\"registered_N\"].describe()"
   ]
  },
  {
   "cell_type": "code",
   "execution_count": 94,
   "id": "0d84fd22",
   "metadata": {},
   "outputs": [
    {
     "data": {
      "text/plain": [
       "56495"
      ]
     },
     "execution_count": 94,
     "metadata": {},
     "output_type": "execute_result"
    }
   ],
   "source": [
    "len(participants_expanded[\"url\"].unique())"
   ]
  },
  {
   "cell_type": "code",
   "execution_count": 95,
   "id": "3c32170b",
   "metadata": {},
   "outputs": [
    {
     "data": {
      "text/plain": [
       "192696"
      ]
     },
     "execution_count": 95,
     "metadata": {},
     "output_type": "execute_result"
    }
   ],
   "source": [
    "len(projects)"
   ]
  },
  {
   "cell_type": "code",
   "execution_count": null,
   "id": "f29968d4",
   "metadata": {},
   "outputs": [],
   "source": []
  },
  {
   "cell_type": "code",
   "execution_count": 96,
   "id": "d91f33b7",
   "metadata": {},
   "outputs": [
    {
     "name": "stdout",
     "output_type": "stream",
     "text": [
      "                            OLS Regression Results                            \n",
      "==============================================================================\n",
      "Dep. Variable:                    URL   R-squared:                       0.815\n",
      "Model:                            OLS   Adj. R-squared:                  0.800\n",
      "Method:                 Least Squares   F-statistic:                     52.97\n",
      "Date:                Mon, 29 Sep 2025   Prob (F-statistic):           9.76e-06\n",
      "Time:                        22:04:04   Log-Likelihood:                -91.768\n",
      "No. Observations:                  14   AIC:                             187.5\n",
      "Df Residuals:                      12   BIC:                             188.8\n",
      "Df Model:                           1                                         \n",
      "Covariance Type:            nonrobust                                         \n",
      "==============================================================================\n",
      "                 coef    std err          t      P>|t|      [0.025      0.975]\n",
      "------------------------------------------------------------------------------\n",
      "const      -1.781e+05   2.45e+04     -7.258      0.000   -2.32e+05   -1.25e+05\n",
      "year          88.6132     12.175      7.278      0.000      62.086     115.141\n",
      "==============================================================================\n",
      "Omnibus:                        7.667   Durbin-Watson:                   1.415\n",
      "Prob(Omnibus):                  0.022   Jarque-Bera (JB):                4.088\n",
      "Skew:                          -1.194   Prob(JB):                        0.130\n",
      "Kurtosis:                       4.141   Cond. No.                     1.01e+06\n",
      "==============================================================================\n",
      "\n",
      "Notes:\n",
      "[1] Standard Errors assume that the covariance matrix of the errors is correctly specified.\n",
      "[2] The condition number is large, 1.01e+06. This might indicate that there are\n",
      "strong multicollinearity or other numerical problems.\n"
     ]
    },
    {
     "data": {
      "text/plain": [
       "const    0.00001\n",
       "year     0.00001\n",
       "dtype: float64"
      ]
     },
     "execution_count": 96,
     "metadata": {},
     "output_type": "execute_result"
    }
   ],
   "source": [
    "hack_num = hackathons[[\"year\",\"URL\"]].groupby(by=[\"year\"]).count()\n",
    "# Add a constant to the model (intercept term)\n",
    "hack_num = hack_num.reset_index()\n",
    "X = sm.add_constant(hack_num['year'])\n",
    "\n",
    "# Define the dependent variable (Participants)\n",
    "y = hack_num['URL']\n",
    "\n",
    "# Perform linear regression\n",
    "model = sm.OLS(y, X).fit()\n",
    "\n",
    "# Print the summary of the regression model\n",
    "print(model.summary())\n",
    "\n",
    "model.pvalues"
   ]
  },
  {
   "cell_type": "code",
   "execution_count": 97,
   "id": "8b70df85",
   "metadata": {},
   "outputs": [
    {
     "name": "stdout",
     "output_type": "stream",
     "text": [
      "Partial η²: 0.8153\n"
     ]
    }
   ],
   "source": [
    "# Get ANOVA-like values\n",
    "ss_total = sum((y - y.mean())**2)\n",
    "ss_regression = sum((model.fittedvalues - y.mean())**2)\n",
    "ss_residual = sum(model.resid ** 2)\n",
    "\n",
    "# Compute partial eta squared\n",
    "eta_sq_partial = ss_regression / (ss_regression + ss_residual)\n",
    "\n",
    "print(f\"Partial η²: {eta_sq_partial:.4f}\")\n"
   ]
  },
  {
   "cell_type": "code",
   "execution_count": null,
   "id": "80f18f72",
   "metadata": {},
   "outputs": [],
   "source": []
  },
  {
   "cell_type": "code",
   "execution_count": 98,
   "id": "33e6e333",
   "metadata": {},
   "outputs": [
    {
     "name": "stdout",
     "output_type": "stream",
     "text": [
      "    year  start_date_format\n",
      "0   2009                  1\n",
      "1   2010                  6\n",
      "2   2011                 19\n",
      "3   2012                 31\n",
      "4   2013                 99\n",
      "5   2014                363\n",
      "6   2015                633\n",
      "7   2016                711\n",
      "8   2017                736\n",
      "9   2018                800\n",
      "10  2019                865\n",
      "11  2020                951\n",
      "12  2021               1212\n",
      "13  2022                626\n"
     ]
    },
    {
     "data": {
      "image/png": "[encoded data removed]",
      "text/plain": [
       "<Figure size 1400x500 with 1 Axes>"
      ]
     },
     "metadata": {},
     "output_type": "display_data"
    }
   ],
   "source": [
    "# Plotting\n",
    "fig, ax = plt.subplots(figsize=(14, 5))  # Set the figure size for better readability\n",
    "# Assuming 'start_date_format' and 'end_date_format' are already in a suitable format (e.g., YYYY-MM-DD)\n",
    "hackathons['start_date_format'] = pd.to_datetime(hackathons['start_date_format'])\n",
    "hackathons[\"year\"] = hackathons[\"start_date_format\"].map(lambda x:x.year)\n",
    "\n",
    "# Resample to monthly data, count number of hackathons starting each month\n",
    "hackathon_count = hackathons.groupby(by=\"year\").count()[\"start_date_format\"].reset_index()\n",
    "\n",
    "print(hackathon_count)\n",
    "\n",
    "# hackathon_count.plot(kind='line', marker='o', ax=plt.gca())  # 'o' gives us points at each data point\n",
    "\n",
    "ax.plot(hackathon_count[\"year\"], hackathon_count[\"start_date_format\"],\n",
    "       linewidth=5)\n",
    "\n",
    "# plt.title('Yearly Distribution of Hackathons by Participation Type')\n",
    "plt.xlabel('Year', fontsize=20)\n",
    "plt.ylabel('Number of Hackathons', fontsize=20)\n",
    "plt.xlim(left=2009.5, right=2022.5)\n",
    "plt.ylim(0, 1300)\n",
    "plt.xticks(fontsize=15)\n",
    "plt.yticks(fontsize=15)\n",
    "plt.grid(False)\n",
    "# plt.legend(title='Participation Type')\n",
    "plt.savefig(\"../results/counts_year.pdf\",\n",
    "           bbox_inches=\"tight\")\n",
    "plt.show()"
   ]
  },
  {
   "cell_type": "markdown",
   "id": "a1bfbb3d",
   "metadata": {},
   "source": [
    "## the median number of participants"
   ]
  },
  {
   "cell_type": "code",
   "execution_count": 99,
   "id": "e1e0d0dc",
   "metadata": {},
   "outputs": [
    {
     "name": "stdout",
     "output_type": "stream",
     "text": [
      "56495\n",
      "Gender Distribution in Hackathons:\n",
      "Gender\n",
      "m          39617\n",
      "f          13684\n",
      "unknown     3194\n",
      "Name: count, dtype: int64\n"
     ]
    },
    {
     "data": {
      "image/png": "[encoded data removed]",
      "text/plain": [
       "<Figure size 500x500 with 1 Axes>"
      ]
     },
     "metadata": {},
     "output_type": "display_data"
    },
    {
     "name": "stdout",
     "output_type": "stream",
     "text": [
      "Number of Hackathons by Gender:\n",
      "Gender\n",
      "f          3866\n",
      "m          4900\n",
      "unknown    1875\n",
      "Name: hackathons_list, dtype: int64\n"
     ]
    },
    {
     "data": {
      "image/png": "[encoded data removed]",
      "text/plain": [
       "<Figure size 500x500 with 1 Axes>"
      ]
     },
     "metadata": {},
     "output_type": "display_data"
    }
   ],
   "source": [
    "# Ensure the relevant columns are present in the dataset\n",
    "if 'Gender' in participants_expanded.columns and 'hackathons' in participants_expanded.columns:\n",
    "    \n",
    "    # Gender distribution in dataset - calculates the count of each gender in the dataset \n",
    "    gender_distribution = participants_expanded['Gender'].value_counts() \n",
    "    print(len(participants_expanded))\n",
    "    print(\"Gender Distribution in Hackathons:\")\n",
    "    print(gender_distribution)\n",
    "    \n",
    "    # Plotting the gender distribution\n",
    "    plt.figure(figsize=(5, 5))\n",
    "    sns.countplot(x='Gender', data=participants_expanded, palette='bright')\n",
    "    plt.title(\"Gender Distribution in the dataset\")\n",
    "    plt.xlabel(\"Gender\")\n",
    "    plt.ylabel(\"Count\")\n",
    "    plt.show()\n",
    "    \n",
    "    # Exploding the hackathons column to find the number of hackathons by gender\n",
    "    participants_expanded['hackathons_list'] = participants_expanded['hackathons'].str.split(',')\n",
    "    participants_expanded_exploded = participants_expanded.explode('hackathons_list')\n",
    "    \n",
    "    # Number of hackathons by gender\n",
    "    hackathons_by_gender = participants_expanded_exploded.groupby('Gender')['hackathons_list'].nunique()\n",
    "    print(\"Number of Hackathons by Gender:\")\n",
    "    print(hackathons_by_gender)\n",
    "    \n",
    "    # Plotting the number of hackathons by gender\n",
    "    plt.figure(figsize=(5, 5))\n",
    "    hackathons_by_gender.plot(kind='bar', color=['crimson', 'navy', 'pink', 'orange'])\n",
    "    plt.title(\"Number of Hackathons by Gender\")\n",
    "    plt.xlabel(\"Gender\")\n",
    "    plt.ylabel(\"Number of Hackathons\")\n",
    "    plt.xticks(rotation=0)\n",
    "    plt.show()\n",
    "\n",
    "    \n",
    "else:\n",
    "    print(\"The required columns ('Gender' and 'hackathons') are not present in the dataset.\")"
   ]
  },
  {
   "cell_type": "code",
   "execution_count": 100,
   "id": "e845d261",
   "metadata": {},
   "outputs": [
    {
     "data": {
      "text/html": [
       "<div>\n",
       "<style scoped>\n",
       "    .dataframe tbody tr th:only-of-type {\n",
       "        vertical-align: middle;\n",
       "    }\n",
       "\n",
       "    .dataframe tbody tr th {\n",
       "        vertical-align: top;\n",
       "    }\n",
       "\n",
       "    .dataframe thead th {\n",
       "        text-align: right;\n",
       "    }\n",
       "</style>\n",
       "<table border=\"1\" class=\"dataframe\">\n",
       "  <thead>\n",
       "    <tr style=\"text-align: right;\">\n",
       "      <th></th>\n",
       "      <th>Unnamed: 0</th>\n",
       "      <th>URL</th>\n",
       "      <th>Criteria</th>\n",
       "      <th>schedule</th>\n",
       "      <th>hack_type</th>\n",
       "      <th>info</th>\n",
       "      <th>start_date_format</th>\n",
       "      <th>end_date_format</th>\n",
       "      <th>Prizes</th>\n",
       "      <th>prize_money</th>\n",
       "      <th>...</th>\n",
       "      <th>prize</th>\n",
       "      <th>registered_N</th>\n",
       "      <th>featured</th>\n",
       "      <th>organization_name</th>\n",
       "      <th>winners_announced</th>\n",
       "      <th>submission_gallery_url</th>\n",
       "      <th>start_a_submission_url</th>\n",
       "      <th>females_participating</th>\n",
       "      <th>males_participating</th>\n",
       "      <th>unknown_gender_participating</th>\n",
       "    </tr>\n",
       "  </thead>\n",
       "  <tbody>\n",
       "    <tr>\n",
       "      <th>0</th>\n",
       "      <td>0</td>\n",
       "      <td>https://wirvsvirushackathon.devpost.com/</td>\n",
       "      <td>Gesellschaftlicher Mehrwert, Innovationsgrad, ...</td>\n",
       "      <td>no schedule</td>\n",
       "      <td>Public</td>\n",
       "      <td>Mar 29, 2020, Online, Public, Social Good     ...</td>\n",
       "      <td>2020-03-20</td>\n",
       "      <td>2020-03-22</td>\n",
       "      <td>Euer Preis ist Anerkennung und Ehre!, Habt Spa...</td>\n",
       "      <td>no money prize</td>\n",
       "      <td>...</td>\n",
       "      <td>$0</td>\n",
       "      <td>12505</td>\n",
       "      <td>False</td>\n",
       "      <td>Not Specified</td>\n",
       "      <td>False</td>\n",
       "      <td>https://wirvsvirushackathon.devpost.com/projec...</td>\n",
       "      <td>https://wirvsvirushackathon.devpost.com/challe...</td>\n",
       "      <td>193.0</td>\n",
       "      <td>479.0</td>\n",
       "      <td>31.0</td>\n",
       "    </tr>\n",
       "    <tr>\n",
       "      <th>1</th>\n",
       "      <td>4</td>\n",
       "      <td>https://theglobalhack.devpost.com/</td>\n",
       "      <td>Potential impact of the project, Technical exe...</td>\n",
       "      <td>no schedule</td>\n",
       "      <td>Public</td>\n",
       "      <td>Apr 12, 2020, Online, Public, COVID-19</td>\n",
       "      <td>2020-04-03</td>\n",
       "      <td>2020-04-09</td>\n",
       "      <td>Overall Winner</td>\n",
       "      <td>no money prize</td>\n",
       "      <td>...</td>\n",
       "      <td>€0</td>\n",
       "      <td>6059</td>\n",
       "      <td>False</td>\n",
       "      <td>Not Specified</td>\n",
       "      <td>False</td>\n",
       "      <td>https://theglobalhack.devpost.com/project-gallery</td>\n",
       "      <td>https://theglobalhack.devpost.com/challenges/s...</td>\n",
       "      <td>99.0</td>\n",
       "      <td>239.0</td>\n",
       "      <td>23.0</td>\n",
       "    </tr>\n",
       "    <tr>\n",
       "      <th>2</th>\n",
       "      <td>8</td>\n",
       "      <td>https://supernova.devpost.com/</td>\n",
       "      <td>X Factor and Potential, Technical Competence, ...</td>\n",
       "      <td>no schedule</td>\n",
       "      <td>Public</td>\n",
       "      <td>Jul 11, 2022, Online, Public, DFINITY Foundati...</td>\n",
       "      <td>2022-05-10</td>\n",
       "      <td>2022-06-22</td>\n",
       "      <td>SocialFi - 1ST PLACE, SocialFi - 2ND PLACE, So...</td>\n",
       "      <td>$765,000</td>\n",
       "      <td>...</td>\n",
       "      <td>$0</td>\n",
       "      <td>3633</td>\n",
       "      <td>False</td>\n",
       "      <td>DFINITY Foundation</td>\n",
       "      <td>False</td>\n",
       "      <td>https://supernova.devpost.com/project-gallery</td>\n",
       "      <td>https://supernova.devpost.com/challenges/start...</td>\n",
       "      <td>8.0</td>\n",
       "      <td>48.0</td>\n",
       "      <td>1.0</td>\n",
       "    </tr>\n",
       "    <tr>\n",
       "      <th>3</th>\n",
       "      <td>12</td>\n",
       "      <td>https://hajjhackathon.devpost.com/</td>\n",
       "      <td>Design           |             التصميم, Simpli...</td>\n",
       "      <td>no schedule</td>\n",
       "      <td>Public</td>\n",
       "      <td>Aug 3, 2018, Jeddah International Exhibition &amp;...</td>\n",
       "      <td>2018-08-01</td>\n",
       "      <td>2018-08-03</td>\n",
       "      <td>1st place: 1 million Saudi Riyal (15% equity i...</td>\n",
       "      <td>SAR2,000,000</td>\n",
       "      <td>...</td>\n",
       "      <td>SAR0</td>\n",
       "      <td>2935</td>\n",
       "      <td>False</td>\n",
       "      <td>Not Specified</td>\n",
       "      <td>False</td>\n",
       "      <td>https://hajjhackathon.devpost.com/project-gallery</td>\n",
       "      <td>https://hajjhackathon.devpost.com/challenges/s...</td>\n",
       "      <td>116.0</td>\n",
       "      <td>287.0</td>\n",
       "      <td>19.0</td>\n",
       "    </tr>\n",
       "    <tr>\n",
       "      <th>4</th>\n",
       "      <td>16</td>\n",
       "      <td>https://chainlinkspring2022.devpost.com/</td>\n",
       "      <td>User Experience / User Interface, Originality ...</td>\n",
       "      <td>no schedule</td>\n",
       "      <td>Public</td>\n",
       "      <td>Jun 8, 2022, Online, Public, Chainlink Labs, B...</td>\n",
       "      <td>2022-04-22</td>\n",
       "      <td>2022-05-28</td>\n",
       "      <td>Chainlink Grand Prize - $40,000, Chainlink NFT...</td>\n",
       "      <td>$1,019,000</td>\n",
       "      <td>...</td>\n",
       "      <td>$0</td>\n",
       "      <td>1481</td>\n",
       "      <td>False</td>\n",
       "      <td>Chainlink Labs</td>\n",
       "      <td>False</td>\n",
       "      <td>https://chainlinkspring2022.devpost.com/projec...</td>\n",
       "      <td>https://chainlinkspring2022.devpost.com/challe...</td>\n",
       "      <td>14.0</td>\n",
       "      <td>70.0</td>\n",
       "      <td>1.0</td>\n",
       "    </tr>\n",
       "    <tr>\n",
       "      <th>...</th>\n",
       "      <td>...</td>\n",
       "      <td>...</td>\n",
       "      <td>...</td>\n",
       "      <td>...</td>\n",
       "      <td>...</td>\n",
       "      <td>...</td>\n",
       "      <td>...</td>\n",
       "      <td>...</td>\n",
       "      <td>...</td>\n",
       "      <td>...</td>\n",
       "      <td>...</td>\n",
       "      <td>...</td>\n",
       "      <td>...</td>\n",
       "      <td>...</td>\n",
       "      <td>...</td>\n",
       "      <td>...</td>\n",
       "      <td>...</td>\n",
       "      <td>...</td>\n",
       "      <td>...</td>\n",
       "      <td>...</td>\n",
       "      <td>...</td>\n",
       "    </tr>\n",
       "    <tr>\n",
       "      <th>7048</th>\n",
       "      <td>7075</td>\n",
       "      <td>https://checkinproject.devpost.com/</td>\n",
       "      <td>biden</td>\n",
       "      <td>no schedule</td>\n",
       "      <td>Public</td>\n",
       "      <td>Aug 30, 2021, Thái Lan, Public, ACM Monterrey,...</td>\n",
       "      <td>2021-08-30</td>\n",
       "      <td>2021-08-30</td>\n",
       "      <td>cash value</td>\n",
       "      <td>$1,000</td>\n",
       "      <td>...</td>\n",
       "      <td>$0</td>\n",
       "      <td>1</td>\n",
       "      <td>False</td>\n",
       "      <td>ACM Monterrey</td>\n",
       "      <td>True</td>\n",
       "      <td>https://checkinproject.devpost.com/project-gal...</td>\n",
       "      <td>https://checkinproject.devpost.com/challenges/...</td>\n",
       "      <td>NaN</td>\n",
       "      <td>NaN</td>\n",
       "      <td>NaN</td>\n",
       "    </tr>\n",
       "    <tr>\n",
       "      <th>7049</th>\n",
       "      <td>7076</td>\n",
       "      <td>https://fgtfrgf.devpost.com/</td>\n",
       "      <td>Criteria 1, Criteria 1, criteria</td>\n",
       "      <td>no schedule</td>\n",
       "      <td>Public</td>\n",
       "      <td>Jul 15, 2021, Online, Public, Dong Trinh LTD, ...</td>\n",
       "      <td>2021-07-15</td>\n",
       "      <td>2021-07-15</td>\n",
       "      <td>1st place, 2nd place, 3rd place, 4nd</td>\n",
       "      <td>$1,100</td>\n",
       "      <td>...</td>\n",
       "      <td>$0</td>\n",
       "      <td>1</td>\n",
       "      <td>False</td>\n",
       "      <td>Dong Trinh LTD</td>\n",
       "      <td>True</td>\n",
       "      <td>https://fgtfrgf.devpost.com/project-gallery</td>\n",
       "      <td>https://fgtfrgf.devpost.com/challenges/start_a...</td>\n",
       "      <td>NaN</td>\n",
       "      <td>NaN</td>\n",
       "      <td>NaN</td>\n",
       "    </tr>\n",
       "    <tr>\n",
       "      <th>7050</th>\n",
       "      <td>7077</td>\n",
       "      <td>https://old-hacks.devpost.com/</td>\n",
       "      <td>TBA</td>\n",
       "      <td>no schedule</td>\n",
       "      <td>Public</td>\n",
       "      <td>May 7, 2021, Quận 2, Vietnam, Public, Hackers ...</td>\n",
       "      <td>2021-05-07</td>\n",
       "      <td>2021-05-07</td>\n",
       "      <td>TBA</td>\n",
       "      <td>no money prize</td>\n",
       "      <td>...</td>\n",
       "      <td>$0</td>\n",
       "      <td>1</td>\n",
       "      <td>False</td>\n",
       "      <td>Hackers Galore</td>\n",
       "      <td>True</td>\n",
       "      <td>https://old-hacks.devpost.com/project-gallery</td>\n",
       "      <td>https://old-hacks.devpost.com/challenges/start...</td>\n",
       "      <td>NaN</td>\n",
       "      <td>NaN</td>\n",
       "      <td>NaN</td>\n",
       "    </tr>\n",
       "    <tr>\n",
       "      <th>7051</th>\n",
       "      <td>7078</td>\n",
       "      <td>https://thailand-champion-13627.devpost.com/</td>\n",
       "      <td>biden</td>\n",
       "      <td>no schedule</td>\n",
       "      <td>Public</td>\n",
       "      <td>Sep 15, 2021, Thái Lan, Public, Screen Compose...</td>\n",
       "      <td>2021-09-15</td>\n",
       "      <td>2021-09-15</td>\n",
       "      <td>Thailand cash</td>\n",
       "      <td>$100</td>\n",
       "      <td>...</td>\n",
       "      <td>$0</td>\n",
       "      <td>0</td>\n",
       "      <td>False</td>\n",
       "      <td>Screen Composers Guild of Canada &amp; SOCAN</td>\n",
       "      <td>True</td>\n",
       "      <td>https://thailand-champion-13627.devpost.com/pr...</td>\n",
       "      <td>https://thailand-champion-13627.devpost.com/ch...</td>\n",
       "      <td>NaN</td>\n",
       "      <td>NaN</td>\n",
       "      <td>NaN</td>\n",
       "    </tr>\n",
       "    <tr>\n",
       "      <th>7052</th>\n",
       "      <td>7079</td>\n",
       "      <td>https://manager-hackathon.devpost.com/</td>\n",
       "      <td>Firts criteria</td>\n",
       "      <td>no schedule</td>\n",
       "      <td>Public</td>\n",
       "      <td>Aug 9, 2021, Việt Nam, Public, Girls Who Code ...</td>\n",
       "      <td>2021-08-09</td>\n",
       "      <td>2021-08-09</td>\n",
       "      <td>1</td>\n",
       "      <td>$1</td>\n",
       "      <td>...</td>\n",
       "      <td>$0</td>\n",
       "      <td>0</td>\n",
       "      <td>False</td>\n",
       "      <td>Girls Who Code UVA</td>\n",
       "      <td>True</td>\n",
       "      <td>https://manager-hackathon.devpost.com/project-...</td>\n",
       "      <td>https://manager-hackathon.devpost.com/challeng...</td>\n",
       "      <td>NaN</td>\n",
       "      <td>NaN</td>\n",
       "      <td>NaN</td>\n",
       "    </tr>\n",
       "  </tbody>\n",
       "</table>\n",
       "<p>7053 rows × 27 columns</p>\n",
       "</div>"
      ],
      "text/plain": [
       "      Unnamed: 0                                           URL  \\\n",
       "0              0      https://wirvsvirushackathon.devpost.com/   \n",
       "1              4            https://theglobalhack.devpost.com/   \n",
       "2              8                https://supernova.devpost.com/   \n",
       "3             12            https://hajjhackathon.devpost.com/   \n",
       "4             16      https://chainlinkspring2022.devpost.com/   \n",
       "...          ...                                           ...   \n",
       "7048        7075           https://checkinproject.devpost.com/   \n",
       "7049        7076                  https://fgtfrgf.devpost.com/   \n",
       "7050        7077                https://old-hacks.devpost.com/   \n",
       "7051        7078  https://thailand-champion-13627.devpost.com/   \n",
       "7052        7079        https://manager-hackathon.devpost.com/   \n",
       "\n",
       "                                               Criteria     schedule  \\\n",
       "0     Gesellschaftlicher Mehrwert, Innovationsgrad, ...  no schedule   \n",
       "1     Potential impact of the project, Technical exe...  no schedule   \n",
       "2     X Factor and Potential, Technical Competence, ...  no schedule   \n",
       "3     Design           |             التصميم, Simpli...  no schedule   \n",
       "4     User Experience / User Interface, Originality ...  no schedule   \n",
       "...                                                 ...          ...   \n",
       "7048                                              biden  no schedule   \n",
       "7049                   Criteria 1, Criteria 1, criteria  no schedule   \n",
       "7050                                                TBA  no schedule   \n",
       "7051                                              biden  no schedule   \n",
       "7052                                     Firts criteria  no schedule   \n",
       "\n",
       "     hack_type                                               info  \\\n",
       "0       Public  Mar 29, 2020, Online, Public, Social Good     ...   \n",
       "1       Public             Apr 12, 2020, Online, Public, COVID-19   \n",
       "2       Public  Jul 11, 2022, Online, Public, DFINITY Foundati...   \n",
       "3       Public  Aug 3, 2018, Jeddah International Exhibition &...   \n",
       "4       Public  Jun 8, 2022, Online, Public, Chainlink Labs, B...   \n",
       "...        ...                                                ...   \n",
       "7048    Public  Aug 30, 2021, Thái Lan, Public, ACM Monterrey,...   \n",
       "7049    Public  Jul 15, 2021, Online, Public, Dong Trinh LTD, ...   \n",
       "7050    Public  May 7, 2021, Quận 2, Vietnam, Public, Hackers ...   \n",
       "7051    Public  Sep 15, 2021, Thái Lan, Public, Screen Compose...   \n",
       "7052    Public  Aug 9, 2021, Việt Nam, Public, Girls Who Code ...   \n",
       "\n",
       "     start_date_format end_date_format  \\\n",
       "0           2020-03-20      2020-03-22   \n",
       "1           2020-04-03      2020-04-09   \n",
       "2           2022-05-10      2022-06-22   \n",
       "3           2018-08-01      2018-08-03   \n",
       "4           2022-04-22      2022-05-28   \n",
       "...                ...             ...   \n",
       "7048        2021-08-30      2021-08-30   \n",
       "7049        2021-07-15      2021-07-15   \n",
       "7050        2021-05-07      2021-05-07   \n",
       "7051        2021-09-15      2021-09-15   \n",
       "7052        2021-08-09      2021-08-09   \n",
       "\n",
       "                                                 Prizes     prize_money  ...  \\\n",
       "0     Euer Preis ist Anerkennung und Ehre!, Habt Spa...  no money prize  ...   \n",
       "1                                        Overall Winner  no money prize  ...   \n",
       "2     SocialFi - 1ST PLACE, SocialFi - 2ND PLACE, So...        $765,000  ...   \n",
       "3     1st place: 1 million Saudi Riyal (15% equity i...    SAR2,000,000  ...   \n",
       "4     Chainlink Grand Prize - $40,000, Chainlink NFT...      $1,019,000  ...   \n",
       "...                                                 ...             ...  ...   \n",
       "7048                                         cash value          $1,000  ...   \n",
       "7049               1st place, 2nd place, 3rd place, 4nd          $1,100  ...   \n",
       "7050                                                TBA  no money prize  ...   \n",
       "7051                                      Thailand cash            $100  ...   \n",
       "7052                                                  1              $1  ...   \n",
       "\n",
       "      prize registered_N featured                         organization_name  \\\n",
       "0        $0        12505    False                             Not Specified   \n",
       "1        €0         6059    False                             Not Specified   \n",
       "2        $0         3633    False                        DFINITY Foundation   \n",
       "3      SAR0         2935    False                             Not Specified   \n",
       "4        $0         1481    False                            Chainlink Labs   \n",
       "...     ...          ...      ...                                       ...   \n",
       "7048     $0            1    False                             ACM Monterrey   \n",
       "7049     $0            1    False                            Dong Trinh LTD   \n",
       "7050     $0            1    False                            Hackers Galore   \n",
       "7051     $0            0    False  Screen Composers Guild of Canada & SOCAN   \n",
       "7052     $0            0    False                        Girls Who Code UVA   \n",
       "\n",
       "     winners_announced                             submission_gallery_url  \\\n",
       "0                False  https://wirvsvirushackathon.devpost.com/projec...   \n",
       "1                False  https://theglobalhack.devpost.com/project-gallery   \n",
       "2                False      https://supernova.devpost.com/project-gallery   \n",
       "3                False  https://hajjhackathon.devpost.com/project-gallery   \n",
       "4                False  https://chainlinkspring2022.devpost.com/projec...   \n",
       "...                ...                                                ...   \n",
       "7048              True  https://checkinproject.devpost.com/project-gal...   \n",
       "7049              True        https://fgtfrgf.devpost.com/project-gallery   \n",
       "7050              True      https://old-hacks.devpost.com/project-gallery   \n",
       "7051              True  https://thailand-champion-13627.devpost.com/pr...   \n",
       "7052              True  https://manager-hackathon.devpost.com/project-...   \n",
       "\n",
       "                                 start_a_submission_url females_participating  \\\n",
       "0     https://wirvsvirushackathon.devpost.com/challe...                 193.0   \n",
       "1     https://theglobalhack.devpost.com/challenges/s...                  99.0   \n",
       "2     https://supernova.devpost.com/challenges/start...                   8.0   \n",
       "3     https://hajjhackathon.devpost.com/challenges/s...                 116.0   \n",
       "4     https://chainlinkspring2022.devpost.com/challe...                  14.0   \n",
       "...                                                 ...                   ...   \n",
       "7048  https://checkinproject.devpost.com/challenges/...                   NaN   \n",
       "7049  https://fgtfrgf.devpost.com/challenges/start_a...                   NaN   \n",
       "7050  https://old-hacks.devpost.com/challenges/start...                   NaN   \n",
       "7051  https://thailand-champion-13627.devpost.com/ch...                   NaN   \n",
       "7052  https://manager-hackathon.devpost.com/challeng...                   NaN   \n",
       "\n",
       "      males_participating  unknown_gender_participating  \n",
       "0                   479.0                          31.0  \n",
       "1                   239.0                          23.0  \n",
       "2                    48.0                           1.0  \n",
       "3                   287.0                          19.0  \n",
       "4                    70.0                           1.0  \n",
       "...                   ...                           ...  \n",
       "7048                  NaN                           NaN  \n",
       "7049                  NaN                           NaN  \n",
       "7050                  NaN                           NaN  \n",
       "7051                  NaN                           NaN  \n",
       "7052                  NaN                           NaN  \n",
       "\n",
       "[7053 rows x 27 columns]"
      ]
     },
     "execution_count": 100,
     "metadata": {},
     "output_type": "execute_result"
    }
   ],
   "source": [
    "# Group by hackathon URL and Gender and count unique participants\n",
    "grouped_counts = participants_expanded_exploded.groupby(['hackathons_list', 'Gender']).size().reset_index(name='count')\n",
    "\n",
    "# Pivot the counts\n",
    "pivoted_counts = grouped_counts.pivot(index='hackathons_list', columns='Gender', values='count').fillna(0)\n",
    "\n",
    "# Rename columns\n",
    "pivoted_counts = pivoted_counts.rename(columns={'f': 'females_participating', \n",
    "                                                'm': 'males_participating',\n",
    "                                                'unknown': 'unknown_gender_participating'})\n",
    "\n",
    "# Step 4: Merge with the hackathons DataFrame\n",
    "hackathons = hackathons.merge(pivoted_counts, left_on='URL', right_index=True, how='left')\n",
    "\n",
    "# Step 5: Validation (optional)\n",
    "hackathons['total_participating'] = hackathons[['females_participating', 'males_participating', 'unknown_gender_participating']].sum(axis=1)\n",
    "\n",
    "hackathons['is_valid'] = hackathons['total_participating'] == hackathons['registered_N']\n",
    "\n",
    "# Drop the validation columns for the final result\n",
    "hackathons = hackathons.drop(columns=['total_participating', 'is_valid'])\n",
    "\n",
    "# Final result\n",
    "hackathons"
   ]
  },
  {
   "cell_type": "code",
   "execution_count": 117,
   "id": "06161a29",
   "metadata": {},
   "outputs": [
    {
     "data": {
      "image/png": "[encoded data removed]",
      "text/plain": [
       "<Figure size 1400x700 with 1 Axes>"
      ]
     },
     "metadata": {},
     "output_type": "display_data"
    }
   ],
   "source": [
    "# Ensure start_date_format is in datetime format\n",
    "# hackathons['start_date_format'] = pd.to_datetime(hackathons['start_date_format'])\n",
    "\n",
    "\n",
    "# Resample and calculate trends\n",
    "# ha = hackathons.groupby(by=\"year\")[['males_participating', 'females_participating']].sum().reset_index()\n",
    "hackathons = hackathons.set_index('year').groupby(by=\"year\")[['males_participating', 'females_participating']].sum().reset_index()\n",
    "\n",
    "# Plotting the trends\n",
    "plt.figure(figsize=(14, 7))\n",
    "\n",
    "# Online trend plot\n",
    "plt.plot(ha['year'], ha['males_participating'], label='Men', color='orange', linewidth=5)\n",
    "plt.plot(ha['year'], ha['females_participating'], label='Women', color='green', linewidth=5)\n",
    "# plt.title('Monthly Women vs. Men Participation', fontsize=20)\n",
    "plt.xlabel(\"Year\", fontsize=15)\n",
    "plt.ylabel('Number of Participants', fontsize=20)\n",
    "plt.legend(fontsize=20)\n",
    "\n",
    "plt.tight_layout()\n",
    "plt.savefig(\"../results/monthly_gender.pdf\")\n",
    "plt.show()"
   ]
  },
  {
   "cell_type": "code",
   "execution_count": 15,
   "id": "0671c315",
   "metadata": {},
   "outputs": [
    {
     "data": {
      "text/html": [
       "<div>\n",
       "<style scoped>\n",
       "    .dataframe tbody tr th:only-of-type {\n",
       "        vertical-align: middle;\n",
       "    }\n",
       "\n",
       "    .dataframe tbody tr th {\n",
       "        vertical-align: top;\n",
       "    }\n",
       "\n",
       "    .dataframe thead th {\n",
       "        text-align: right;\n",
       "    }\n",
       "</style>\n",
       "<table border=\"1\" class=\"dataframe\">\n",
       "  <thead>\n",
       "    <tr style=\"text-align: right;\">\n",
       "      <th></th>\n",
       "      <th>females_participating</th>\n",
       "      <th>males_participating</th>\n",
       "      <th>unknown_gender_participating</th>\n",
       "      <th>registered_N</th>\n",
       "      <th>actual_participants_N</th>\n",
       "      <th>URL</th>\n",
       "    </tr>\n",
       "  </thead>\n",
       "  <tbody>\n",
       "    <tr>\n",
       "      <th>0</th>\n",
       "      <td>193.0</td>\n",
       "      <td>479.0</td>\n",
       "      <td>31.0</td>\n",
       "      <td>12505</td>\n",
       "      <td>703.0</td>\n",
       "      <td>https://wirvsvirushackathon.devpost.com/</td>\n",
       "    </tr>\n",
       "    <tr>\n",
       "      <th>1</th>\n",
       "      <td>99.0</td>\n",
       "      <td>239.0</td>\n",
       "      <td>23.0</td>\n",
       "      <td>6059</td>\n",
       "      <td>361.0</td>\n",
       "      <td>https://theglobalhack.devpost.com/</td>\n",
       "    </tr>\n",
       "    <tr>\n",
       "      <th>2</th>\n",
       "      <td>8.0</td>\n",
       "      <td>48.0</td>\n",
       "      <td>1.0</td>\n",
       "      <td>3633</td>\n",
       "      <td>57.0</td>\n",
       "      <td>https://supernova.devpost.com/</td>\n",
       "    </tr>\n",
       "    <tr>\n",
       "      <th>3</th>\n",
       "      <td>116.0</td>\n",
       "      <td>287.0</td>\n",
       "      <td>19.0</td>\n",
       "      <td>2935</td>\n",
       "      <td>422.0</td>\n",
       "      <td>https://hajjhackathon.devpost.com/</td>\n",
       "    </tr>\n",
       "    <tr>\n",
       "      <th>4</th>\n",
       "      <td>14.0</td>\n",
       "      <td>70.0</td>\n",
       "      <td>1.0</td>\n",
       "      <td>1481</td>\n",
       "      <td>85.0</td>\n",
       "      <td>https://chainlinkspring2022.devpost.com/</td>\n",
       "    </tr>\n",
       "    <tr>\n",
       "      <th>...</th>\n",
       "      <td>...</td>\n",
       "      <td>...</td>\n",
       "      <td>...</td>\n",
       "      <td>...</td>\n",
       "      <td>...</td>\n",
       "      <td>...</td>\n",
       "    </tr>\n",
       "    <tr>\n",
       "      <th>7048</th>\n",
       "      <td>NaN</td>\n",
       "      <td>NaN</td>\n",
       "      <td>NaN</td>\n",
       "      <td>1</td>\n",
       "      <td>0.0</td>\n",
       "      <td>https://checkinproject.devpost.com/</td>\n",
       "    </tr>\n",
       "    <tr>\n",
       "      <th>7049</th>\n",
       "      <td>NaN</td>\n",
       "      <td>NaN</td>\n",
       "      <td>NaN</td>\n",
       "      <td>1</td>\n",
       "      <td>0.0</td>\n",
       "      <td>https://fgtfrgf.devpost.com/</td>\n",
       "    </tr>\n",
       "    <tr>\n",
       "      <th>7050</th>\n",
       "      <td>NaN</td>\n",
       "      <td>NaN</td>\n",
       "      <td>NaN</td>\n",
       "      <td>1</td>\n",
       "      <td>0.0</td>\n",
       "      <td>https://old-hacks.devpost.com/</td>\n",
       "    </tr>\n",
       "    <tr>\n",
       "      <th>7051</th>\n",
       "      <td>NaN</td>\n",
       "      <td>NaN</td>\n",
       "      <td>NaN</td>\n",
       "      <td>0</td>\n",
       "      <td>0.0</td>\n",
       "      <td>https://thailand-champion-13627.devpost.com/</td>\n",
       "    </tr>\n",
       "    <tr>\n",
       "      <th>7052</th>\n",
       "      <td>NaN</td>\n",
       "      <td>NaN</td>\n",
       "      <td>NaN</td>\n",
       "      <td>0</td>\n",
       "      <td>0.0</td>\n",
       "      <td>https://manager-hackathon.devpost.com/</td>\n",
       "    </tr>\n",
       "  </tbody>\n",
       "</table>\n",
       "<p>7053 rows × 6 columns</p>\n",
       "</div>"
      ],
      "text/plain": [
       "      females_participating  males_participating  \\\n",
       "0                     193.0                479.0   \n",
       "1                      99.0                239.0   \n",
       "2                       8.0                 48.0   \n",
       "3                     116.0                287.0   \n",
       "4                      14.0                 70.0   \n",
       "...                     ...                  ...   \n",
       "7048                    NaN                  NaN   \n",
       "7049                    NaN                  NaN   \n",
       "7050                    NaN                  NaN   \n",
       "7051                    NaN                  NaN   \n",
       "7052                    NaN                  NaN   \n",
       "\n",
       "      unknown_gender_participating  registered_N  actual_participants_N  \\\n",
       "0                             31.0         12505                  703.0   \n",
       "1                             23.0          6059                  361.0   \n",
       "2                              1.0          3633                   57.0   \n",
       "3                             19.0          2935                  422.0   \n",
       "4                              1.0          1481                   85.0   \n",
       "...                            ...           ...                    ...   \n",
       "7048                           NaN             1                    0.0   \n",
       "7049                           NaN             1                    0.0   \n",
       "7050                           NaN             1                    0.0   \n",
       "7051                           NaN             0                    0.0   \n",
       "7052                           NaN             0                    0.0   \n",
       "\n",
       "                                               URL  \n",
       "0         https://wirvsvirushackathon.devpost.com/  \n",
       "1               https://theglobalhack.devpost.com/  \n",
       "2                   https://supernova.devpost.com/  \n",
       "3               https://hajjhackathon.devpost.com/  \n",
       "4         https://chainlinkspring2022.devpost.com/  \n",
       "...                                            ...  \n",
       "7048           https://checkinproject.devpost.com/  \n",
       "7049                  https://fgtfrgf.devpost.com/  \n",
       "7050                https://old-hacks.devpost.com/  \n",
       "7051  https://thailand-champion-13627.devpost.com/  \n",
       "7052        https://manager-hackathon.devpost.com/  \n",
       "\n",
       "[7053 rows x 6 columns]"
      ]
     },
     "execution_count": 15,
     "metadata": {},
     "output_type": "execute_result"
    }
   ],
   "source": [
    "# Creating the actual_participants_N column\n",
    "hackathons['actual_participants_N'] = (\n",
    "    hackathons['females_participating'].fillna(0) +\n",
    "    hackathons['males_participating'].fillna(0) +\n",
    "    hackathons['unknown_gender_participating'].fillna(0)\n",
    ")\n",
    "\n",
    "# Displaying the result\n",
    "hackathons[['females_participating', 'males_participating',\n",
    "                 'unknown_gender_participating', 'registered_N',\n",
    "                 'actual_participants_N', 'URL']]"
   ]
  },
  {
   "cell_type": "code",
   "execution_count": 16,
   "id": "f6e625a1",
   "metadata": {},
   "outputs": [],
   "source": [
    "# remove 0 actual participants\n",
    "hackathons = hackathons.loc[hackathons[\"actual_participants_N\"]>0]"
   ]
  },
  {
   "cell_type": "code",
   "execution_count": 17,
   "id": "8b84f826",
   "metadata": {},
   "outputs": [
    {
     "data": {
      "text/plain": [
       "5114"
      ]
     },
     "execution_count": 17,
     "metadata": {},
     "output_type": "execute_result"
    }
   ],
   "source": [
    "len(hackathons[\"URL\"].unique())"
   ]
  },
  {
   "cell_type": "code",
   "execution_count": 18,
   "id": "eac98eca",
   "metadata": {},
   "outputs": [
    {
     "name": "stdout",
     "output_type": "stream",
     "text": [
      "    year  actual_participants_N\n",
      "0   2010               8.600000\n",
      "1   2011               7.666667\n",
      "2   2012               8.043478\n",
      "3   2013              10.560606\n",
      "4   2014              14.505102\n",
      "5   2015              13.604534\n",
      "6   2016              14.046784\n",
      "7   2017              15.064057\n",
      "8   2018              15.394415\n",
      "9   2019              15.668770\n",
      "10  2020              18.060960\n",
      "11  2021              15.002232\n",
      "12  2022              12.840173\n"
     ]
    },
    {
     "data": {
      "image/png": "[encoded data removed]",
      "text/plain": [
       "<Figure size 1400x500 with 1 Axes>"
      ]
     },
     "metadata": {},
     "output_type": "display_data"
    }
   ],
   "source": [
    "avg_hack_num = hackathons[[\"year\",\"actual_participants_N\"]].groupby(by=[\"year\"]).mean()[\"actual_participants_N\"]\n",
    "\n",
    "avg_hack_num = avg_hack_num.reset_index()\n",
    "print(avg_hack_num)\n",
    "\n",
    "# Visualizing the log-transformed data\n",
    "fig, axes = plt.subplots(figsize=(14, 5))\n",
    "\n",
    "sns.boxplot(x=hackathons[\"year\"], y=hackathons[\"actual_participants_N\"], color=\"tab:orange\",\n",
    "           showfliers=False)\n",
    "\n",
    "\n",
    "# avg_hack_num.plot(kind='line', marker='o', ax=plt.gca())  # 'o' gives us points at each data point\n",
    "# plt.title('Yearly Distribution of Hackathons by Participation Type')\n",
    "plt.xlabel('Year', fontsize=20)\n",
    "plt.ylabel('Number of \\nActual Participants', fontsize=20)\n",
    "# plt.xlim(left=2009.5, right=2022.5)\n",
    "plt.ylim(0, 50)\n",
    "plt.xticks(fontsize=15)\n",
    "plt.yticks(fontsize=15)\n",
    "plt.grid(False)\n",
    "# plt.legend(title='Participation Type')\n",
    "plt.savefig(\"../results/actual_year.pdf\",\n",
    "           bbox_inches=\"tight\")\n",
    "plt.show()\n"
   ]
  },
  {
   "cell_type": "code",
   "execution_count": 19,
   "id": "e09d4f1f",
   "metadata": {},
   "outputs": [
    {
     "name": "stdout",
     "output_type": "stream",
     "text": [
      "                              OLS Regression Results                             \n",
      "=================================================================================\n",
      "Dep. Variable:     actual_participants_N   R-squared:                       0.416\n",
      "Model:                               OLS   Adj. R-squared:                  0.363\n",
      "Method:                    Least Squares   F-statistic:                     7.844\n",
      "Date:                   Sun, 28 Sep 2025   Prob (F-statistic):             0.0173\n",
      "Time:                           23:48:37   Log-Likelihood:                -21.759\n",
      "No. Observations:                     13   AIC:                             47.52\n",
      "Df Residuals:                         11   BIC:                             48.65\n",
      "Df Model:                              1                                         \n",
      "Covariance Type:               nonrobust                                         \n",
      "==============================================================================\n",
      "                 coef    std err          t      P>|t|      [0.025      0.975]\n",
      "------------------------------------------------------------------------------\n",
      "const       -579.6923    209.612     -2.766      0.018   -1041.046    -118.339\n",
      "year           0.2912      0.104      2.801      0.017       0.062       0.520\n",
      "==============================================================================\n",
      "Omnibus:                        1.118   Durbin-Watson:                   1.175\n",
      "Prob(Omnibus):                  0.572   Jarque-Bera (JB):                0.806\n",
      "Skew:                          -0.553   Prob(JB):                        0.668\n",
      "Kurtosis:                       2.486   Cond. No.                     1.09e+06\n",
      "==============================================================================\n",
      "\n",
      "Notes:\n",
      "[1] Standard Errors assume that the covariance matrix of the errors is correctly specified.\n",
      "[2] The condition number is large, 1.09e+06. This might indicate that there are\n",
      "strong multicollinearity or other numerical problems.\n"
     ]
    }
   ],
   "source": [
    "median_hack_num = hackathons[[\"year\",\"actual_participants_N\"]].groupby(by=[\"year\"]).median()\n",
    "\n",
    "# Add a constant to the model (intercept term)\n",
    "median_hack_num = median_hack_num.reset_index()\n",
    "X = sm.add_constant(median_hack_num['year'])\n",
    "\n",
    "# Define the dependent variable (Participants)\n",
    "y = median_hack_num['actual_participants_N']\n",
    "\n",
    "# Perform linear regression\n",
    "model = sm.OLS(y, X).fit()\n",
    "\n",
    "# Print the summary of the regression model\n",
    "print(model.summary())\n"
   ]
  },
  {
   "cell_type": "code",
   "execution_count": 20,
   "id": "809031ba",
   "metadata": {},
   "outputs": [
    {
     "name": "stdout",
     "output_type": "stream",
     "text": [
      "Partial η²: 0.4163\n"
     ]
    }
   ],
   "source": [
    "# Get ANOVA-like values\n",
    "ss_total = sum((y - y.mean())**2)\n",
    "ss_regression = sum((model.fittedvalues - y.mean())**2)\n",
    "ss_residual = sum(model.resid ** 2)\n",
    "\n",
    "# Compute partial eta squared\n",
    "eta_sq_partial = ss_regression / (ss_regression + ss_residual)\n",
    "\n",
    "print(f\"Partial η²: {eta_sq_partial:.4f}\")\n"
   ]
  },
  {
   "cell_type": "code",
   "execution_count": null,
   "id": "e72af637",
   "metadata": {},
   "outputs": [],
   "source": []
  },
  {
   "cell_type": "code",
   "execution_count": null,
   "id": "6e137006",
   "metadata": {},
   "outputs": [],
   "source": []
  },
  {
   "cell_type": "markdown",
   "id": "634f0cbc",
   "metadata": {},
   "source": [
    "## H1: Number of hackathons participated"
   ]
  },
  {
   "cell_type": "code",
   "execution_count": 25,
   "id": "452dcd93",
   "metadata": {},
   "outputs": [],
   "source": [
    "# genenrate a new DF that has one participant one hackathon each row\n",
    "new_parts = []\n",
    "parts = participants_expanded.fillna(\"\")\n",
    "for i, row in parts.iterrows():\n",
    "    for h in row[\"hackathons\"].split(\",\"):\n",
    "        new_parts.append({\n",
    "            \"url\": row[\"url\"],\n",
    "            \"hackathon\": h,\n",
    "            \"gender\": row[\"Gender\"]\n",
    "        })\n",
    "new_parts = pd.DataFrame(new_parts)"
   ]
  },
  {
   "cell_type": "code",
   "execution_count": 26,
   "id": "7d36c485",
   "metadata": {},
   "outputs": [],
   "source": [
    "# URL is the ID\n",
    "hack = hackathons[[\"URL\", \"year\"]]\n",
    "hack[\"hackathon\"] = hack[\"URL\"]\n",
    "hack = hack.drop(columns=[\"URL\"])\n",
    "# add hackathon's information to the DF\n",
    "new_parts = new_parts.merge(hack, on=[\"hackathon\"])"
   ]
  },
  {
   "cell_type": "code",
   "execution_count": 27,
   "id": "d9c6d4ac",
   "metadata": {},
   "outputs": [],
   "source": [
    "# separate genders, count the number of hackathons \n",
    "men = new_parts.loc[new_parts[\"gender\"]==\"m\"].groupby(by=[\"url\"])[\"hackathon\"].count().reset_index()\n",
    "women = new_parts.loc[new_parts[\"gender\"]==\"f\"].groupby(by=[\"url\"])[\"hackathon\"].count().reset_index()"
   ]
  },
  {
   "cell_type": "code",
   "execution_count": 28,
   "id": "fa627b38",
   "metadata": {},
   "outputs": [
    {
     "data": {
      "image/png": "[encoded data removed]",
      "text/plain": [
       "<Figure size 1400x600 with 1 Axes>"
      ]
     },
     "metadata": {},
     "output_type": "display_data"
    }
   ],
   "source": [
    "plt.figure(figsize=(14, 6))\n",
    "\n",
    "gender_dict = [\"Men\", \"Women\"]\n",
    "\n",
    "bin_intervals = range(1, 13)\n",
    "for i, subset in enumerate([men, women]):    \n",
    "    # Create weights so each group sums to 1 (i.e., 100% when scaled)\n",
    "    weights = np.ones_like(subset['hackathon']) / len(subset['hackathon'])\n",
    "    \n",
    "    plt.hist(subset['hackathon'], bins=bin_intervals, alpha=0.5,\n",
    "             weights=weights * 100,  # Scale to percent\n",
    "             \n",
    "             label=gender_dict[i])\n",
    "\n",
    "plt.xlabel(\"Number of Hackathons Participated\", fontsize=20)\n",
    "plt.ylabel(\"Percentage (%)\", fontsize=20)\n",
    "\n",
    "plt.xticks(range(1, 13), fontsize=15)\n",
    "plt.yticks(fontsize=15)\n",
    "# plt.title(\"Histogram of Number of Skills by Gender\")\n",
    "plt.legend(title=\"Gender\", fontsize=20,\n",
    "          title_fontsize=20)\n",
    "plt.savefig(\"../results/gender_num_hackathons.pdf\")\n",
    "plt.show()"
   ]
  },
  {
   "cell_type": "code",
   "execution_count": 29,
   "id": "ff1c07e6",
   "metadata": {},
   "outputs": [
    {
     "data": {
      "text/plain": [
       "(count    39564.000000\n",
       " mean         1.394728\n",
       " std          1.429913\n",
       " min          1.000000\n",
       " 25%          1.000000\n",
       " 50%          1.000000\n",
       " 75%          1.000000\n",
       " max         66.000000\n",
       " Name: hackathon, dtype: float64,\n",
       " count    13659.000000\n",
       " mean         1.322498\n",
       " std          1.063801\n",
       " min          1.000000\n",
       " 25%          1.000000\n",
       " 50%          1.000000\n",
       " 75%          1.000000\n",
       " max         30.000000\n",
       " Name: hackathon, dtype: float64)"
      ]
     },
     "execution_count": 29,
     "metadata": {},
     "output_type": "execute_result"
    }
   ],
   "source": [
    "# see the number of hackathons they participate\n",
    "men[\"hackathon\"].describe(), women[\"hackathon\"].describe()"
   ]
  },
  {
   "cell_type": "code",
   "execution_count": 30,
   "id": "5d1f8e8d",
   "metadata": {},
   "outputs": [
    {
     "name": "stdout",
     "output_type": "stream",
     "text": [
      "Shapiro-Wilk Test for Normality:\n",
      "Men p-value: 0.0\n",
      "Women p-value: 0.0\n"
     ]
    }
   ],
   "source": [
    "# if the p-value is significant -> not normal\n",
    "male_normality = stats.shapiro(men[\"hackathon\"])\n",
    "female_normality = stats.shapiro(women[\"hackathon\"])\n",
    "print(\"Shapiro-Wilk Test for Normality:\")\n",
    "print(f\"Men p-value: {male_normality.pvalue}\")\n",
    "print(f\"Women p-value: {female_normality.pvalue}\")"
   ]
  },
  {
   "cell_type": "code",
   "execution_count": 31,
   "id": "307669ca",
   "metadata": {},
   "outputs": [
    {
     "name": "stdout",
     "output_type": "stream",
     "text": [
      "Mann-Whitney U Test Results:\n",
      "U-statistic: 277324766.5, P-value: 1.902124892954769e-11\n"
     ]
    }
   ],
   "source": [
    "u_stat, p_value = stats.mannwhitneyu(men[\"hackathon\"], \n",
    "                                     women[\"hackathon\"], \n",
    "                                     alternative='greater')\n",
    "print(\"Mann-Whitney U Test Results:\")\n",
    "print(f\"U-statistic: {u_stat}, P-value: {p_value}\")"
   ]
  },
  {
   "cell_type": "code",
   "execution_count": 32,
   "id": "264406fb",
   "metadata": {},
   "outputs": [],
   "source": [
    "def mannwhitney_effect_size_r(group1, group2, alternative='two-sided'):\n",
    "    \"\"\"\n",
    "    Compute the effect size r for a Mann-Whitney U test.\n",
    "\n",
    "    Parameters:\n",
    "        group1 (array-like): Sample 1\n",
    "        group2 (array-like): Sample 2\n",
    "        alternative (str): 'two-sided', 'greater', or 'less'\n",
    "\n",
    "    Returns:\n",
    "        r (float): Effect size r\n",
    "    \"\"\"\n",
    "    u_stat, p_value = stats.mannwhitneyu(group1, group2, alternative=alternative)\n",
    "    n1, n2 = len(group1), len(group2)\n",
    "    N = n1 + n2\n",
    "\n",
    "    # Compute z from U (normal approximation)\n",
    "    mean_u = n1 * n2 / 2\n",
    "    std_u = np.sqrt(n1 * n2 * (n1 + n2 + 1) / 12)\n",
    "    z = (u_stat - mean_u) / std_u\n",
    "\n",
    "    # Effect size r\n",
    "    r = z / np.sqrt(N)\n",
    "    return r, z, u_stat, p_value"
   ]
  },
  {
   "cell_type": "code",
   "execution_count": 33,
   "id": "db210be0",
   "metadata": {},
   "outputs": [
    {
     "data": {
      "text/plain": [
       "(0.019941404434218504, 4.600504044785865, 277324766.5, 3.804249785909538e-11)"
      ]
     },
     "execution_count": 33,
     "metadata": {},
     "output_type": "execute_result"
    }
   ],
   "source": [
    "mannwhitney_effect_size_r(men[\"hackathon\"], \n",
    "                          women[\"hackathon\"])"
   ]
  },
  {
   "cell_type": "markdown",
   "id": "7363c400",
   "metadata": {},
   "source": [
    "## H2: Medium number of skills reported by different genders"
   ]
  },
  {
   "cell_type": "markdown",
   "id": "2d59b445",
   "metadata": {},
   "source": [
    "### Cleaning the skills and interests column"
   ]
  },
  {
   "cell_type": "code",
   "execution_count": 34,
   "id": "1ddd5aba",
   "metadata": {},
   "outputs": [
    {
     "data": {
      "text/html": [
       "<div>\n",
       "<style scoped>\n",
       "    .dataframe tbody tr th:only-of-type {\n",
       "        vertical-align: middle;\n",
       "    }\n",
       "\n",
       "    .dataframe tbody tr th {\n",
       "        vertical-align: top;\n",
       "    }\n",
       "\n",
       "    .dataframe thead th {\n",
       "        text-align: right;\n",
       "    }\n",
       "</style>\n",
       "<table border=\"1\" class=\"dataframe\">\n",
       "  <thead>\n",
       "    <tr style=\"text-align: right;\">\n",
       "      <th></th>\n",
       "      <th>skills</th>\n",
       "      <th>interests</th>\n",
       "    </tr>\n",
       "  </thead>\n",
       "  <tbody>\n",
       "    <tr>\n",
       "      <th>0</th>\n",
       "      <td>[]</td>\n",
       "      <td>[]</td>\n",
       "    </tr>\n",
       "    <tr>\n",
       "      <th>1</th>\n",
       "      <td>[wordpress, python, tableau, excel, Blockchain, ]</td>\n",
       "      <td>[AR/VR, Blockchain, Communication, Cybersecuri...</td>\n",
       "    </tr>\n",
       "    <tr>\n",
       "      <th>2</th>\n",
       "      <td>[java, c++, javascript, angular.js, css, html,...</td>\n",
       "      <td>[Beginner Friendly, Blockchain, Cybersecurity,...</td>\n",
       "    </tr>\n",
       "    <tr>\n",
       "      <th>3</th>\n",
       "      <td>[java, javascript, ]</td>\n",
       "      <td>[Communication, Cybersecurity, Gaming, IoT, Ma...</td>\n",
       "    </tr>\n",
       "    <tr>\n",
       "      <th>4</th>\n",
       "      <td>[android, javascript, php, java, ios, jquery, ...</td>\n",
       "      <td>[]</td>\n",
       "    </tr>\n",
       "    <tr>\n",
       "      <th>...</th>\n",
       "      <td>...</td>\n",
       "      <td>...</td>\n",
       "    </tr>\n",
       "    <tr>\n",
       "      <th>56490</th>\n",
       "      <td>[python, java, react, react-native, firebase, ...</td>\n",
       "      <td>[AR/VR, Blockchain, E-commerce/Retail, Fintech...</td>\n",
       "    </tr>\n",
       "    <tr>\n",
       "      <th>56491</th>\n",
       "      <td>[mac, web, windows, ]</td>\n",
       "      <td>[]</td>\n",
       "    </tr>\n",
       "    <tr>\n",
       "      <th>56492</th>\n",
       "      <td>[]</td>\n",
       "      <td>[]</td>\n",
       "    </tr>\n",
       "    <tr>\n",
       "      <th>56493</th>\n",
       "      <td>[web, react, python, flask, html5, websockets,...</td>\n",
       "      <td>[Beginner Friendly, Design, Education, Health,...</td>\n",
       "    </tr>\n",
       "    <tr>\n",
       "      <th>56494</th>\n",
       "      <td>[java, c++, Blockchain, ]</td>\n",
       "      <td>[AR/VR, Blockchain, Cybersecurity, DevOps, IoT...</td>\n",
       "    </tr>\n",
       "  </tbody>\n",
       "</table>\n",
       "<p>56495 rows × 2 columns</p>\n",
       "</div>"
      ],
      "text/plain": [
       "                                                  skills  \\\n",
       "0                                                     []   \n",
       "1      [wordpress, python, tableau, excel, Blockchain, ]   \n",
       "2      [java, c++, javascript, angular.js, css, html,...   \n",
       "3                                   [java, javascript, ]   \n",
       "4      [android, javascript, php, java, ios, jquery, ...   \n",
       "...                                                  ...   \n",
       "56490  [python, java, react, react-native, firebase, ...   \n",
       "56491                              [mac, web, windows, ]   \n",
       "56492                                                 []   \n",
       "56493  [web, react, python, flask, html5, websockets,...   \n",
       "56494                          [java, c++, Blockchain, ]   \n",
       "\n",
       "                                               interests  \n",
       "0                                                     []  \n",
       "1      [AR/VR, Blockchain, Communication, Cybersecuri...  \n",
       "2      [Beginner Friendly, Blockchain, Cybersecurity,...  \n",
       "3      [Communication, Cybersecurity, Gaming, IoT, Ma...  \n",
       "4                                                     []  \n",
       "...                                                  ...  \n",
       "56490  [AR/VR, Blockchain, E-commerce/Retail, Fintech...  \n",
       "56491                                                 []  \n",
       "56492                                                 []  \n",
       "56493  [Beginner Friendly, Design, Education, Health,...  \n",
       "56494  [AR/VR, Blockchain, Cybersecurity, DevOps, IoT...  \n",
       "\n",
       "[56495 rows x 2 columns]"
      ]
     },
     "execution_count": 34,
     "metadata": {},
     "output_type": "execute_result"
    }
   ],
   "source": [
    "# Define a function to convert the column to a list\n",
    "def convert_to_list(x):\n",
    "    if pd.isna(x):\n",
    "        return []\n",
    "    return x.split('|')\n",
    "\n",
    "# Apply the function to the skills and interests columns\n",
    "participants_expanded['skills'] = participants_expanded['skills'].apply(convert_to_list)\n",
    "participants_expanded['interests'] = participants_expanded['interests'].apply(convert_to_list)\n",
    "\n",
    "# Display the updated DataFrame\n",
    "participants_expanded[['skills', 'interests']]"
   ]
  },
  {
   "cell_type": "code",
   "execution_count": null,
   "id": "d47079aa",
   "metadata": {},
   "outputs": [],
   "source": []
  },
  {
   "cell_type": "code",
   "execution_count": 38,
   "id": "5cadf4de",
   "metadata": {},
   "outputs": [
    {
     "name": "stdout",
     "output_type": "stream",
     "text": [
      "Top 20 Skills of Participants:\n",
      "         Skill  Count\n",
      "0       python  23910\n",
      "1         java  21142\n",
      "2   javascript  17249\n",
      "3          c++   9995\n",
      "4        html5   8812\n",
      "5          css   8472\n",
      "6            c   6976\n",
      "7         html   6041\n",
      "8   Blockchain   5969\n",
      "9      android   5058\n",
      "10     node.js   4281\n",
      "11       react   4208\n",
      "12          c#   3589\n",
      "13        css3   3470\n",
      "14         sql   3299\n",
      "15         php   3126\n",
      "16         ios   2954\n",
      "17      jquery   2618\n",
      "18   photoshop   2122\n",
      "19         web   2037\n"
     ]
    }
   ],
   "source": [
    "# Explode the skills column to have one skill per row\n",
    "exploded_skills = participants_expanded.explode('skills')\n",
    "\n",
    "# Strip any leading or trailing spaces and remove empty strings\n",
    "exploded_skills['skills'] = exploded_skills['skills'].str.strip()\n",
    "exploded_skills = exploded_skills[exploded_skills['skills'] != '']\n",
    "exploded_skills = exploded_skills[exploded_skills['skills'] != ',']\n",
    "\n",
    "# Count the occurrences of each skill\n",
    "skill_counts = exploded_skills['skills'].value_counts().reset_index()\n",
    "skill_counts.columns = ['Skill', 'Count']\n",
    "\n",
    "# Get the top 20 skills\n",
    "top_skills = skill_counts.head(20)\n",
    "\n",
    "# Display the top 20 skills\n",
    "print(\"Top 20 Skills of Participants:\")\n",
    "print(top_skills)"
   ]
  },
  {
   "cell_type": "code",
   "execution_count": 39,
   "id": "e6bbefba",
   "metadata": {},
   "outputs": [],
   "source": [
    "participants_expanded[\"skills\"] = participants_expanded[\"skills\"].fillna(\"\")\n",
    "participants_expanded[\"num_skills\"] = participants_expanded[\"skills\"].map(\n",
    "                        lambda x:len(x)-1)"
   ]
  },
  {
   "cell_type": "code",
   "execution_count": 40,
   "id": "8b834d9c",
   "metadata": {},
   "outputs": [
    {
     "data": {
      "text/plain": [
       "0                                                       []\n",
       "1        [wordpress, python, tableau, excel, Blockchain, ]\n",
       "2        [java, c++, javascript, angular.js, css, html,...\n",
       "3                                     [java, javascript, ]\n",
       "4        [android, javascript, php, java, ios, jquery, ...\n",
       "                               ...                        \n",
       "56490    [python, java, react, react-native, firebase, ...\n",
       "56491                                [mac, web, windows, ]\n",
       "56492                                                   []\n",
       "56493    [web, react, python, flask, html5, websockets,...\n",
       "56494                            [java, c++, Blockchain, ]\n",
       "Name: skills, Length: 56495, dtype: object"
      ]
     },
     "execution_count": 40,
     "metadata": {},
     "output_type": "execute_result"
    }
   ],
   "source": [
    "participants_expanded[\"skills\"]"
   ]
  },
  {
   "cell_type": "code",
   "execution_count": null,
   "id": "5c6731f4",
   "metadata": {},
   "outputs": [],
   "source": []
  },
  {
   "cell_type": "code",
   "execution_count": 49,
   "id": "6f9eef1b",
   "metadata": {},
   "outputs": [
    {
     "data": {
      "image/png": "[encoded data removed]",
      "text/plain": [
       "<Figure size 1400x600 with 1 Axes>"
      ]
     },
     "metadata": {},
     "output_type": "display_data"
    }
   ],
   "source": [
    "plt.figure(figsize=(14, 6))\n",
    "\n",
    "gender_dict = {\"m\": \"Men\",\n",
    "              \"f\": \"Women\"}\n",
    "\n",
    "bin_intervals = range(1, 6)\n",
    "for gender in [\"m\", \"f\"]:\n",
    "    subset = participants_expanded[participants_expanded['Gender'] == gender]\n",
    "    \n",
    "    # Create weights so each group sums to 1 (i.e., 100% when scaled)\n",
    "    weights = np.ones_like(subset['num_skills']) / len(subset['num_skills'])\n",
    "    \n",
    "    plt.hist(subset['num_skills'], bins=bin_intervals, alpha=0.5,\n",
    "             weights=weights * 100,  # Scale to percent\n",
    "             label=gender_dict[gender])\n",
    "\n",
    "plt.xlabel(\"Number of Skills\", fontsize=20)\n",
    "plt.ylabel(\"Percentage (%)\", fontsize=20)\n",
    "\n",
    "plt.xticks(range(1, ), fontsize=15)\n",
    "plt.yticks(fontsize=15)\n",
    "# plt.title(\"Histogram of Number of Skills by Gender\")\n",
    "plt.legend(title=\"Gender\", fontsize=20,\n",
    "          title_fontsize=20)\n",
    "plt.savefig(\"../results/gender_num_skills.pdf\")\n",
    "plt.show()"
   ]
  },
  {
   "cell_type": "code",
   "execution_count": 50,
   "id": "3c371f3a",
   "metadata": {},
   "outputs": [],
   "source": [
    "c = Counter(subset[\"num_skills\"])"
   ]
  },
  {
   "cell_type": "code",
   "execution_count": 59,
   "id": "247e73ce",
   "metadata": {},
   "outputs": [
    {
     "data": {
      "text/plain": [
       "216"
      ]
     },
     "execution_count": 59,
     "metadata": {},
     "output_type": "execute_result"
    }
   ],
   "source": [
    "larger_than_12 = sum([c[i] for i in range(13, 32)])\n",
    "larger_than_12"
   ]
  },
  {
   "cell_type": "code",
   "execution_count": 60,
   "id": "96b1abf3",
   "metadata": {},
   "outputs": [
    {
     "data": {
      "text/plain": [
       "0.9842151417714119"
      ]
     },
     "execution_count": 60,
     "metadata": {},
     "output_type": "execute_result"
    }
   ],
   "source": [
    "1-216/len(subset)"
   ]
  },
  {
   "cell_type": "code",
   "execution_count": null,
   "id": "a0322782",
   "metadata": {},
   "outputs": [],
   "source": []
  },
  {
   "cell_type": "code",
   "execution_count": null,
   "id": "779f65f6",
   "metadata": {},
   "outputs": [],
   "source": []
  },
  {
   "cell_type": "code",
   "execution_count": 44,
   "id": "e4809158",
   "metadata": {},
   "outputs": [
    {
     "data": {
      "text/plain": [
       "0.7884390529085062"
      ]
     },
     "execution_count": 44,
     "metadata": {},
     "output_type": "execute_result"
    }
   ],
   "source": [
    "1-2895/len(subset)"
   ]
  },
  {
   "cell_type": "code",
   "execution_count": 46,
   "id": "802448b9",
   "metadata": {},
   "outputs": [
    {
     "data": {
      "text/plain": [
       "count    10789.000000\n",
       "mean         4.165724\n",
       "std          3.094508\n",
       "min          1.000000\n",
       "25%          2.000000\n",
       "50%          3.000000\n",
       "75%          6.000000\n",
       "max         36.000000\n",
       "Name: num_skills, dtype: float64"
      ]
     },
     "execution_count": 46,
     "metadata": {},
     "output_type": "execute_result"
    }
   ],
   "source": [
    "subset.loc[subset[\"num_skills\"]>0][\"num_skills\"].describe()"
   ]
  },
  {
   "cell_type": "code",
   "execution_count": null,
   "id": "f94343c5",
   "metadata": {},
   "outputs": [],
   "source": []
  },
  {
   "cell_type": "code",
   "execution_count": 217,
   "id": "68f26a4e",
   "metadata": {},
   "outputs": [
    {
     "name": "stdout",
     "output_type": "stream",
     "text": [
      "Mann-Whitney U Test Statistic: 68639062.0\n",
      "p-value: 2.236015684488366e-54\n"
     ]
    }
   ],
   "source": [
    "# Subset the data by gender\n",
    "male_skills = participants_expanded[participants_expanded['Gender'] == 'm']['num_skills']\n",
    "female_skills = participants_expanded[participants_expanded['Gender'] == 'f']['num_skills']\n",
    "\n",
    "# Perform Mann-Whitney U Test\n",
    "u_statistic, p_value = stats.mannwhitneyu(male_skills, \n",
    "                                          female_skills,\n",
    "                                         alternative='greater')\n",
    "\n",
    "print(\"Mann-Whitney U Test Statistic:\", u_statistic)\n",
    "print(\"p-value:\", p_value)"
   ]
  },
  {
   "cell_type": "code",
   "execution_count": 222,
   "id": "56b81815",
   "metadata": {},
   "outputs": [
    {
     "data": {
      "text/plain": [
       "count    17829.000000\n",
       "mean         4.293511\n",
       "std          3.603895\n",
       "min         -1.000000\n",
       "25%          2.000000\n",
       "50%          4.000000\n",
       "75%          6.000000\n",
       "max         65.000000\n",
       "Name: num_skills, dtype: float64"
      ]
     },
     "execution_count": 222,
     "metadata": {},
     "output_type": "execute_result"
    }
   ],
   "source": [
    "male_skills.describe()"
   ]
  },
  {
   "cell_type": "code",
   "execution_count": null,
   "id": "398c4fe7",
   "metadata": {},
   "outputs": [],
   "source": [
    "female_skills.describe()"
   ]
  },
  {
   "cell_type": "code",
   "execution_count": null,
   "id": "ce1ad740",
   "metadata": {},
   "outputs": [],
   "source": [
    "mannwhitney_effect_size_r(male_skills, \n",
    "                          female_skills)"
   ]
  },
  {
   "cell_type": "markdown",
   "id": "787045e6",
   "metadata": {},
   "source": [
    "## H3: Association between gender and skills"
   ]
  },
  {
   "cell_type": "code",
   "execution_count": null,
   "id": "83e85482",
   "metadata": {},
   "outputs": [],
   "source": [
    "# Plotting the top 20 skills\n",
    "plt.figure(figsize=(14, 10))\n",
    "bars = plt.barh(top_skills['Skill'], top_skills['Count'], color='tab:brown')\n",
    "plt.xlabel('Count', fontsize=20)\n",
    "plt.ylabel('Skill', fontsize=20)\n",
    "plt.yticks(fontsize=15)\n",
    "plt.xlim(0, 25390)\n",
    "plt.xticks(fontsize=15)\n",
    "# plt.title('Top 20 Skills of Participants')\n",
    "plt.gca().invert_yaxis()  # Invert y-axis to have the highest count at the top\n",
    "\n",
    "# Adding value numbers to the bars\n",
    "for bar in bars:\n",
    "    plt.text(bar.get_width() + 100, bar.get_y() + bar.get_height() / 2,\n",
    "             f'{int(bar.get_width())}', va='center',\n",
    "            fontsize=14)\n",
    "plt.savefig(\"../results/top20skill.pdf\", bbox_inches=\"tight\")\n",
    "plt.show()"
   ]
  },
  {
   "cell_type": "code",
   "execution_count": null,
   "id": "579d6484",
   "metadata": {},
   "outputs": [],
   "source": [
    "classification = {\n",
    "    'python': 'PL', 'java': 'PL', 'javascript': 'PL', 'c++': 'PL', 'html5': 'PL', 'css': 'PL', 'c': 'PL',\n",
    "    'html': 'PL', 'Blockchain': 'TS', 'android': 'TS', 'node.js': 'TS', 'react': 'TS', 'c#': 'PL', \n",
    "    'css3': 'TS', 'sql': 'PL', 'php': 'PL', 'ios': 'TS', 'jquery': 'TS', 'photoshop': 'TS', 'web': 'TS',\n",
    "    'machine-learning': 'TS', 'arduino': 'TS', 'unity': 'PL', 'mysql': 'TS', 'matlab': 'PL', 'mongodb': 'TS',\n",
    "    'swift': 'PL', 'design': 'TS', 'r': 'PL', 'angular.js': 'TS', 'django': 'TS', 'amazon-web-services': 'TS',\n",
    "    'bootstrap': 'TS', 'android-studio': 'TS', 'flask': 'TS', 'ruby-on-rails': 'PL', 'linux': 'TS', \n",
    "    'express.js': 'TS', 'adobe-illustrator': 'TS', 'git': 'TS', 'firebase': 'TS', 'typescript': 'PL', \n",
    "    'react-native': 'TS', 'windows': 'TS', 'hardware': 'TS', 'flutter': 'TS', 'github': 'TS', 'postgresql': 'TS',\n",
    "    'raspberry-pi': 'TS', 'ruby': 'PL', 'solidity': 'PL', 'pandas': 'TS', 'bash': 'PL', 'jira': 'TS', \n",
    "    'scala': 'PL', 'kotlin': 'PL', 'sass': 'TS', 'less': 'TS', 'perl': 'PL', 'objective-c': 'PL', \n",
    "    'shell': 'PL', 'vba': 'PL', 'salesforce': 'TS', 'spark': 'TS', 'hadoop': 'TS', 'kubernetes': 'TS', \n",
    "    'docker': 'TS', 'ansible': 'TS', 'puppet': 'TS', 'chef': 'TS', 'jenkins': 'TS', 'travis-ci': 'TS', \n",
    "    'circleci': 'TS', 'azure': 'TS', 'gcp': 'TS', 'bigquery': 'TS', 'tableau': 'TS', 'power-bi': 'TS', \n",
    "    'd3.js': 'TS', 'vue.js': 'TS', 'svelte': 'TS', 'next.js': 'TS', 'nuxt.js': 'TS', 'gatsby': 'TS',\n",
    "    'redux': 'TS', 'mobx': 'TS', 'ember.js': 'TS', 'backbone.js': 'TS', 'three.js': 'TS', 'webgl': 'TS',\n",
    "    'tensorflow': 'TS', 'keras': 'TS', 'pytorch': 'TS', 'theano': 'TS', 'mxnet': 'TS', 'opencv': 'TS',\n",
    "    'nltk': 'TS', 'spacy': 'TS', 'gensim': 'TS', 'beautifulsoup': 'TS', 'scrapy': 'TS', 'selenium': 'TS',\n",
    "    'robot-framework': 'TS', 'cucumber': 'TS', 'pytest': 'TS', 'unittest': 'TS', 'mocha': 'TS', 'chai': 'TS',\n",
    "    'jest': 'TS', 'karma': 'TS', 'enzyme': 'TS', 'nightwatch.js': 'TS', 'phantomjs': 'TS', 'protractor': 'TS',\n",
    "    'cypress': 'TS', 'webdriverio': 'TS', 'testcafe': 'TS', 'grunt': 'TS', 'gulp': 'TS', 'webpack': 'TS',\n",
    "    'rollup': 'TS', 'parcel': 'TS', 'browserify': 'TS', 'babel': 'TS', 'typescript': 'PL', 'flow': 'TS',\n",
    "    'eslint': 'TS', 'prettier': 'TS', 'stylelint': 'TS', 'eslint-config-airbnb': 'TS', 'eslint-config-google': 'TS',\n",
    "    'eslint-plugin-react': 'TS', 'eslint-plugin-jsx-a11y': 'TS', 'eslint-plugin-import': 'TS', 'eslint-plugin-flowtype': 'TS',\n",
    "    'eslint-plugin-vue': 'TS', 'eslint-plugin-promise': 'TS', 'eslint-plugin-standard': 'TS', 'eslint-plugin-node': 'TS',\n",
    "    'eslint-plugin-security': 'TS', 'eslint-plugin-compat': 'TS', 'eslint-plugin-functional': 'TS', 'eslint-plugin-optimize-regex': 'TS'\n",
    "}\n",
    "\n",
    "# Explode the skills list\n",
    "participants_expanded_exploded = participants_expanded.explode('skills')\n",
    "\n",
    "# Apply classification\n",
    "participants_expanded_exploded['Category'] = participants_expanded_exploded['skills'].apply(\n",
    "                    lambda x: classification.get(x, 'Other'))\n",
    "\n",
    "# Create contingency table for gender and skill category\n",
    "contingency_table = pd.crosstab(participants_expanded_exploded['Gender'], participants_expanded_exploded['Category'])\n",
    "\n",
    "# Perform Chi-Square test of independence\n",
    "chi2, p, dof, expected = chi2_contingency(contingency_table)\n",
    "\n",
    "# Display the results\n",
    "print(\"Chi-Square Statistic:\", chi2)\n",
    "print(\"P-value:\", p)\n",
    "print(\"Degrees of Freedom:\", dof)\n",
    "print('\\n')\n",
    "# Display the observed frequencies table\n",
    "print(\"Observed Frequencies Table:\")\n",
    "print(contingency_table)\n",
    "print('\\n')\n",
    "print(\"Expected Frequencies Table:\")\n",
    "print(pd.DataFrame(expected, index=contingency_table.index, columns=contingency_table.columns))\n",
    "print('\\n')\n",
    "# Interpretation\n",
    "if p < 0.05:\n",
    "    print(\"Reject the null hypothesis. Thus, there is a significant association between gender and skill category.\")\n",
    "else:\n",
    "    print(\"Fail to reject the null hypothesis. Thus, there is no significant association between gender and skill category.\")"
   ]
  },
  {
   "cell_type": "code",
   "execution_count": null,
   "id": "1818fe53",
   "metadata": {},
   "outputs": [],
   "source": [
    "def cramers_v(confusion_matrix):\n",
    "    \"\"\"Compute Cramér's V statistic for categorical-categorical association.\"\"\"\n",
    "    chi2, p, dof, expected = chi2_contingency(confusion_matrix)\n",
    "    n = confusion_matrix.to_numpy().sum()\n",
    "    min_dim = min(confusion_matrix.shape) - 1\n",
    "    v = np.sqrt(chi2 / (n * min_dim))\n",
    "    return v, chi2, p\n",
    "\n",
    "# Example usage with your data:\n",
    "contingency_table = pd.crosstab(participants_expanded_exploded['Gender'], participants_expanded_exploded['Category'])\n",
    "\n",
    "v, chi2, p = cramers_v(contingency_table)\n",
    "\n",
    "print(\"Cramér's V:\", v)\n",
    "print(\"Chi-Square:\", chi2)\n",
    "print(\"P-value:\", p)"
   ]
  },
  {
   "cell_type": "code",
   "execution_count": null,
   "id": "b297ebf9",
   "metadata": {},
   "outputs": [],
   "source": [
    "# 1. Explode if skills are lists\n",
    "participants_expanded_exploded = participants_expanded_exploded.explode('skills')\n",
    "\n",
    "# 2. Drop NAs just in case\n",
    "participants_expanded_exploded = participants_expanded_exploded.dropna(subset=['Gender', 'skills'])\n",
    "\n",
    "# 3. Get top N most frequent skills\n",
    "top_skills = (\n",
    "    participants_expanded_exploded['skills']\n",
    "    .value_counts()\n",
    "    .head(5)  # ← Change this number for different thresholds\n",
    "    .index\n",
    ")\n",
    "\n",
    "# 4. Filter dataset to only include those top skills\n",
    "filtered = participants_expanded_exploded[participants_expanded_exploded['skills'].isin(top_skills)]\n",
    "\n",
    "# 5. Create new contingency table\n",
    "contingency_top = pd.crosstab(filtered['Gender'], filtered['skills'])\n",
    "\n",
    "# 6. Run Chi-Square test\n",
    "chi2, p, dof, expected = chi2_contingency(contingency_top)\n",
    "\n",
    "# 7. (Optional) Compute Cramér's V\n",
    "import numpy as np\n",
    "n = contingency_top.values.sum()\n",
    "min_dim = min(contingency_top.shape) - 1\n",
    "cramers_v = np.sqrt(chi2 / (n * min_dim))\n",
    "\n",
    "# 8. Report results\n",
    "print(f\"Chi-square: {chi2:.2f}, p-value: {p:.4g}, dof: {dof}, Cramér's V: {cramers_v:.3f}\")\n"
   ]
  },
  {
   "cell_type": "markdown",
   "id": "c8b8bbf4",
   "metadata": {},
   "source": [
    "## H4: Number of interests"
   ]
  },
  {
   "cell_type": "code",
   "execution_count": 61,
   "id": "f7b1fd56",
   "metadata": {},
   "outputs": [],
   "source": [
    "# participants_expanded[\"interests\"] = participants_expanded[\"interests\"].fillna([])\n",
    "participants_expanded[\"num_interests\"] = participants_expanded[\"interests\"].map(\n",
    "                        lambda x:len(x)-1)"
   ]
  },
  {
   "cell_type": "code",
   "execution_count": 209,
   "id": "618b6a10",
   "metadata": {},
   "outputs": [
    {
     "data": {
      "text/plain": [
       "11101"
      ]
     },
     "execution_count": 209,
     "metadata": {},
     "output_type": "execute_result"
    }
   ],
   "source": [
    "len(participants_expanded[\"interests\"].map(str).unique())"
   ]
  },
  {
   "cell_type": "code",
   "execution_count": 210,
   "id": "5881d175",
   "metadata": {},
   "outputs": [
    {
     "data": {
      "text/plain": [
       "56495"
      ]
     },
     "execution_count": 210,
     "metadata": {},
     "output_type": "execute_result"
    }
   ],
   "source": [
    "len(participants_expanded)"
   ]
  },
  {
   "cell_type": "code",
   "execution_count": 66,
   "id": "d48148a2",
   "metadata": {},
   "outputs": [
    {
     "data": {
      "image/png": "[encoded data removed]",
      "text/plain": [
       "<Figure size 1400x600 with 1 Axes>"
      ]
     },
     "metadata": {},
     "output_type": "display_data"
    }
   ],
   "source": [
    "plt.figure(figsize=(14, 6))\n",
    "\n",
    "gender_dict = {\"m\": \"Men\",\n",
    "              \"f\": \"Women\"}\n",
    "\n",
    "bin_intervals = range(1, 28)\n",
    "for gender in [\"m\", \"f\"]:\n",
    "    subset = participants_expanded[participants_expanded['Gender'] == gender]\n",
    "    \n",
    "    # Create weights so each group sums to 1 (i.e., 100% when scaled)\n",
    "    weights = np.ones_like(subset['num_interests']) / len(subset['num_interests'])\n",
    "    \n",
    "    plt.hist(subset['num_interests'], bins=bin_intervals, alpha=0.5,\n",
    "             weights=weights * 100,  # Scale to percent\n",
    "             label=gender_dict[gender])\n",
    "\n",
    "plt.xlabel(\"Number of Interests\", fontsize=20)\n",
    "plt.ylabel(\"Percentage (%)\", fontsize=20)\n",
    "\n",
    "plt.xticks(range(1, 28), fontsize=15)\n",
    "plt.yticks(fontsize=15)\n",
    "# plt.title(\"Histogram of Number of Skills by Gender\")\n",
    "plt.legend(title=\"Gender\", fontsize=20,\n",
    "          title_fontsize=20)\n",
    "plt.savefig(\"../results/gender_num_interests.pdf\")\n",
    "plt.show()"
   ]
  },
  {
   "cell_type": "code",
   "execution_count": 67,
   "id": "7776a5a3",
   "metadata": {},
   "outputs": [
    {
     "data": {
      "text/plain": [
       "count    6836.000000\n",
       "mean        4.677589\n",
       "std         3.655210\n",
       "min         1.000000\n",
       "25%         2.000000\n",
       "50%         4.000000\n",
       "75%         6.000000\n",
       "max        27.000000\n",
       "Name: num_interests, dtype: float64"
      ]
     },
     "execution_count": 67,
     "metadata": {},
     "output_type": "execute_result"
    }
   ],
   "source": [
    "subset.loc[subset[\"num_interests\"]>0][\"num_interests\"].describe()"
   ]
  },
  {
   "cell_type": "code",
   "execution_count": 68,
   "id": "9e04587e",
   "metadata": {},
   "outputs": [
    {
     "data": {
      "text/plain": [
       "Counter({-1: 6848,\n",
       "         11: 105,\n",
       "         1: 1192,\n",
       "         13: 90,\n",
       "         7: 405,\n",
       "         10: 148,\n",
       "         5: 752,\n",
       "         2: 882,\n",
       "         3: 1043,\n",
       "         4: 919,\n",
       "         9: 194,\n",
       "         6: 540,\n",
       "         12: 86,\n",
       "         14: 49,\n",
       "         8: 270,\n",
       "         21: 7,\n",
       "         15: 54,\n",
       "         19: 12,\n",
       "         25: 20,\n",
       "         17: 13,\n",
       "         22: 2,\n",
       "         24: 5,\n",
       "         16: 22,\n",
       "         20: 7,\n",
       "         18: 12,\n",
       "         23: 4,\n",
       "         27: 3})"
      ]
     },
     "execution_count": 68,
     "metadata": {},
     "output_type": "execute_result"
    }
   ],
   "source": [
    "Counter(subset[\"num_interests\"])"
   ]
  },
  {
   "cell_type": "code",
   "execution_count": 69,
   "id": "5c1d5609",
   "metadata": {},
   "outputs": [
    {
     "data": {
      "text/plain": [
       "0.4995615317158726"
      ]
     },
     "execution_count": 69,
     "metadata": {},
     "output_type": "execute_result"
    }
   ],
   "source": [
    "1-6848/len(subset)"
   ]
  },
  {
   "cell_type": "code",
   "execution_count": null,
   "id": "d025e545",
   "metadata": {},
   "outputs": [],
   "source": []
  },
  {
   "cell_type": "code",
   "execution_count": 211,
   "id": "d39de5a7",
   "metadata": {},
   "outputs": [
    {
     "name": "stdout",
     "output_type": "stream",
     "text": [
      "Mann-Whitney U Test Statistic: 58774295.5\n",
      "p-value: 0.9999935952080236\n"
     ]
    }
   ],
   "source": [
    "# Subset the data by gender\n",
    "participants_expanded = participants_expanded.loc[participants_expanded[\"num_interests\"]>0]\n",
    "male_interests = participants_expanded[participants_expanded['Gender'] == 'm']['num_interests']\n",
    "female_interests = participants_expanded[participants_expanded['Gender'] == 'f']['num_interests']\n",
    "\n",
    "# Perform Mann-Whitney U Test\n",
    "u_statistic, p_value = stats.mannwhitneyu(male_interests, \n",
    "                                          female_interests,\n",
    "                                         alternative='greater')\n",
    "\n",
    "print(\"Mann-Whitney U Test Statistic:\", u_statistic)\n",
    "print(\"p-value:\", p_value)"
   ]
  },
  {
   "cell_type": "code",
   "execution_count": 212,
   "id": "e0c99983",
   "metadata": {},
   "outputs": [
    {
     "data": {
      "text/plain": [
       "count    17829.000000\n",
       "mean         4.506703\n",
       "std          3.691722\n",
       "min          1.000000\n",
       "25%          2.000000\n",
       "50%          4.000000\n",
       "75%          6.000000\n",
       "max         27.000000\n",
       "Name: num_interests, dtype: float64"
      ]
     },
     "execution_count": 212,
     "metadata": {},
     "output_type": "execute_result"
    }
   ],
   "source": [
    "male_interests.describe()"
   ]
  },
  {
   "cell_type": "code",
   "execution_count": 213,
   "id": "3da3fa35",
   "metadata": {},
   "outputs": [
    {
     "data": {
      "text/plain": [
       "count    6836.000000\n",
       "mean        4.677589\n",
       "std         3.655210\n",
       "min         1.000000\n",
       "25%         2.000000\n",
       "50%         4.000000\n",
       "75%         6.000000\n",
       "max        27.000000\n",
       "Name: num_interests, dtype: float64"
      ]
     },
     "execution_count": 213,
     "metadata": {},
     "output_type": "execute_result"
    }
   ],
   "source": [
    "female_interests.describe()"
   ]
  },
  {
   "cell_type": "code",
   "execution_count": null,
   "id": "db7c9609",
   "metadata": {},
   "outputs": [],
   "source": []
  },
  {
   "cell_type": "markdown",
   "id": "1089acd5",
   "metadata": {},
   "source": [
    "## H5: Association between interests and gender"
   ]
  },
  {
   "cell_type": "code",
   "execution_count": 81,
   "id": "1c4c95eb",
   "metadata": {},
   "outputs": [
    {
     "name": "stdout",
     "output_type": "stream",
     "text": [
      "Chi-Square Statistic: 1787.011125310408\n",
      "P-value: 0.0\n",
      "Degrees of Freedom: 54\n",
      "\n",
      "\n",
      "Observed Frequencies Table:\n",
      "interests         AR/VR  Beginner Friendly  Blockchain  Communication  \\\n",
      "Gender                                                                  \n",
      "f           6836   1518               1295        1074           2080   \n",
      "m          17829   4202               2564        4616           4062   \n",
      "unknown     1205    254                176         279            276   \n",
      "\n",
      "interests  Cybersecurity  Databases  Design  DevOps  E-commerce/Retail  ...  \\\n",
      "Gender                                                                  ...   \n",
      "f                   1439         27    1281    1006                392  ...   \n",
      "m                   4262         55    2217    3592                969  ...   \n",
      "unknown              304          5     154     232                 63  ...   \n",
      "\n",
      "interests  Machine Learning/AI  Mobile  Music/Art  Open Ended  Productivity  \\\n",
      "Gender                                                                        \n",
      "f                         3272     685       1055         468          2588   \n",
      "m                         9611    1577       1679        1252          6131   \n",
      "unknown                    604      95        121          68           378   \n",
      "\n",
      "interests  Quantum  Robotic Process Automation  Social Good  Voice skills  \\\n",
      "Gender                                                                      \n",
      "f              169                           7         3338           687   \n",
      "m              667                          27         5723          1551   \n",
      "unknown         47                           0          377           113   \n",
      "\n",
      "interests   Web  \n",
      "Gender           \n",
      "f          1116  \n",
      "m          2952  \n",
      "unknown     189  \n",
      "\n",
      "[3 rows x 28 columns]\n",
      "\n",
      "\n",
      "Expected Frequencies Table:\n",
      "interests                      AR/VR  Beginner Friendly   Blockchain  \\\n",
      "Gender                                                                 \n",
      "f           7001.369779  1616.783265        1092.018827  1615.430082   \n",
      "m          17710.694721  4089.821812        2762.375462  4086.398794   \n",
      "unknown     1157.935500   267.394924         180.605711   267.171125   \n",
      "\n",
      "interests  Communication  Cybersecurity  Databases       Design       DevOps  \\\n",
      "Gender                                                                         \n",
      "f            1736.945931    1625.173000  23.545387   988.364995  1307.174953   \n",
      "m            4393.785803    4111.044523  59.560512  2500.172289  3306.635311   \n",
      "unknown       287.268266     268.782477   3.894101   163.462715   216.189736   \n",
      "\n",
      "interests  E-commerce/Retail  ...  Machine Learning/AI       Mobile  \\\n",
      "Gender                        ...                                     \n",
      "f                 385.386570  ...          3650.076313   637.890552   \n",
      "m                 974.875504  ...          9233.248539  1613.610648   \n",
      "unknown            63.737926  ...           603.675148   105.498801   \n",
      "\n",
      "interests    Music/Art   Open Ended  Productivity     Quantum  \\\n",
      "Gender                                                          \n",
      "f           772.667596   483.898306   2461.981480  238.972150   \n",
      "m          1954.543233  1224.071208   6227.838805  604.504965   \n",
      "unknown     127.789171    80.030486    407.179716   39.522885   \n",
      "\n",
      "interests  Robotic Process Automation  Social Good  Voice skills          Web  \n",
      "Gender                                                                         \n",
      "f                            9.201646  2554.268573    636.266732  1152.100160  \n",
      "m                           23.276522  6461.288627   1609.503026  2914.357458  \n",
      "unknown                      1.521833   422.442800    105.230242   190.542382  \n",
      "\n",
      "[3 rows x 28 columns]\n",
      "\n",
      "\n",
      "Reject the null hypothesis. Thus, there is a significant association between gender and interest category.\n"
     ]
    }
   ],
   "source": [
    "participants_expanded_exploded = participants_expanded.explode('interests')\n",
    "\n",
    "# Create contingency table for gender and skill category\n",
    "contingency_table = pd.crosstab(participants_expanded_exploded['Gender'], participants_expanded_exploded['interests'])\n",
    "\n",
    "# Perform Chi-Square test of independence\n",
    "chi2, p, dof, expected = chi2_contingency(contingency_table)\n",
    "\n",
    "# Display the results\n",
    "print(\"Chi-Square Statistic:\", chi2)\n",
    "print(\"P-value:\", p)\n",
    "print(\"Degrees of Freedom:\", dof)\n",
    "print('\\n')\n",
    "# Display the observed frequencies table\n",
    "print(\"Observed Frequencies Table:\")\n",
    "print(contingency_table)\n",
    "print('\\n')\n",
    "print(\"Expected Frequencies Table:\")\n",
    "print(pd.DataFrame(expected, index=contingency_table.index, columns=contingency_table.columns))\n",
    "print('\\n')\n",
    "# Interpretation\n",
    "if p < 0.05:\n",
    "    print(\"Reject the null hypothesis. Thus, there is a significant association between gender and interest category.\")\n",
    "else:\n",
    "    print(\"Fail to reject the null hypothesis. Thus, there is no significant association between gender and interest category.\")"
   ]
  },
  {
   "cell_type": "code",
   "execution_count": 82,
   "id": "b6a36009",
   "metadata": {},
   "outputs": [
    {
     "name": "stdout",
     "output_type": "stream",
     "text": [
      "Cramér's V: 0.0789330550870737\n",
      "Chi-Square: 1787.011125310408\n",
      "P-value: 0.0\n"
     ]
    }
   ],
   "source": [
    "def cramers_v(confusion_matrix):\n",
    "    \"\"\"Compute Cramér's V statistic for categorical-categorical association.\"\"\"\n",
    "    chi2, p, dof, expected = chi2_contingency(confusion_matrix)\n",
    "    n = confusion_matrix.to_numpy().sum()\n",
    "    min_dim = min(confusion_matrix.shape) - 1\n",
    "    v = np.sqrt(chi2 / (n * min_dim))\n",
    "    return v, chi2, p\n",
    "\n",
    "# Example usage with your data:\n",
    "contingency_table = pd.crosstab(participants_expanded_exploded['Gender'], participants_expanded_exploded['interests'])\n",
    "\n",
    "v, chi2, p = cramers_v(contingency_table)\n",
    "\n",
    "print(\"Cramér's V:\", v)\n",
    "print(\"Chi-Square:\", chi2)\n",
    "print(\"P-value:\", p)"
   ]
  },
  {
   "cell_type": "code",
   "execution_count": null,
   "id": "68dba186",
   "metadata": {},
   "outputs": [],
   "source": []
  },
  {
   "cell_type": "code",
   "execution_count": null,
   "id": "a5960ce4",
   "metadata": {},
   "outputs": [],
   "source": []
  },
  {
   "cell_type": "code",
   "execution_count": null,
   "id": "8b7a2f9d",
   "metadata": {},
   "outputs": [],
   "source": []
  },
  {
   "cell_type": "code",
   "execution_count": null,
   "id": "3e555bba",
   "metadata": {},
   "outputs": [],
   "source": []
  }
 ],
 "metadata": {
  "kernelspec": {
   "display_name": "Python 3 (ipykernel)",
   "language": "python",
   "name": "python3"
  },
  "language_info": {
   "codemirror_mode": {
    "name": "ipython",
    "version": 3
   },
   "file_extension": ".py",
   "mimetype": "text/x-python",
   "name": "python",
   "nbconvert_exporter": "python",
   "pygments_lexer": "ipython3",
   "version": "3.10.9"
  }
 },
 "nbformat": 4,
 "nbformat_minor": 5
}
